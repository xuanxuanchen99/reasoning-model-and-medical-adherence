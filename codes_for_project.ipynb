{
 "cells": [
  {
   "cell_type": "code",
   "execution_count": 8,
   "metadata": {},
   "outputs": [
    {
     "name": "stdout",
     "output_type": "stream",
     "text": [
      "\u001b[33mWARNING: Ignoring invalid distribution ~andas (/opt/anaconda3/lib/python3.12/site-packages)\u001b[0m\u001b[33m\n",
      "\u001b[0m\u001b[33mWARNING: Ignoring invalid distribution ~andas (/opt/anaconda3/lib/python3.12/site-packages)\u001b[0m\u001b[33m\n",
      "\u001b[0mRequirement already satisfied: openpyxl in /opt/anaconda3/lib/python3.12/site-packages (3.1.2)\n",
      "Requirement already satisfied: et-xmlfile in /opt/anaconda3/lib/python3.12/site-packages (from openpyxl) (1.1.0)\n",
      "\u001b[33mWARNING: Ignoring invalid distribution ~andas (/opt/anaconda3/lib/python3.12/site-packages)\u001b[0m\u001b[33m\n",
      "\u001b[0m\u001b[33mWARNING: Ignoring invalid distribution ~andas (/opt/anaconda3/lib/python3.12/site-packages)\u001b[0m\u001b[33m\n",
      "\u001b[0m\u001b[33mWARNING: Ignoring invalid distribution ~andas (/opt/anaconda3/lib/python3.12/site-packages)\u001b[0m\u001b[33m\n",
      "\u001b[0m\u001b[33mWARNING: Ignoring invalid distribution ~andas (/opt/anaconda3/lib/python3.12/site-packages)\u001b[0m\u001b[33m\n",
      "\u001b[0m"
     ]
    }
   ],
   "source": [
    "!pip install openpyxl\n"
   ]
  },
  {
   "cell_type": "code",
   "execution_count": 40,
   "metadata": {},
   "outputs": [],
   "source": [
    "import pandas as pd\n",
    "\n",
    "def load_and_merge_year(year, patients, svi_path, crosswalk_path):\n",
    "    import pandas as pd\n",
    "\n",
    "    # Load ZIP-to-TRACT crosswalk\n",
    "    crosswalk = pd.read_excel(crosswalk_path, dtype={'ZIP': str, 'TRACT': str})\n",
    "\n",
    "    # Normalize all column names to uppercase\n",
    "    crosswalk.columns = crosswalk.columns.str.upper()\n",
    "    print(crosswalk.columns)  # Optional debug step\n",
    "\n",
    "    # Ensure ZIP and TRACT are strings\n",
    "    crosswalk[\"ZIP\"] = crosswalk[\"ZIP\"].astype(str)\n",
    "    crosswalk[\"TRACT\"] = crosswalk[\"TRACT\"].astype(str)\n",
    "\n",
    "    # Sort and deduplicate\n",
    "    crosswalk = crosswalk.sort_values(by=[\"ZIP\", \"RES_RATIO\"], ascending=[True, False])\n",
    "    zip_to_fips = crosswalk.drop_duplicates(subset=\"ZIP\", keep=\"first\")[[\"ZIP\", \"TRACT\"]]\n",
    "    zip_to_fips.rename(columns={\"ZIP\": \"zip_code\", \"TRACT\": f\"FIPS_{year}\"}, inplace=True)\n",
    "\n",
    "    # Ensure patient's zip_code is also string\n",
    "    patients[\"zip_code\"] = patients[\"zip_code\"].astype(str)\n",
    "\n",
    "    # Merge ZIP → FIPS_YEAR\n",
    "    df = patients.merge(zip_to_fips, on=\"zip_code\", how=\"left\")\n",
    "\n",
    "    # Load SVI_YEAR and merge RPL_THEMES_YEAR\n",
    "    svi = pd.read_csv(svi_path, dtype={\"FIPS\": str})\n",
    "    svi = svi[[\"FIPS\", \"RPL_THEMES\"]].rename(\n",
    "        columns={\"FIPS\": f\"FIPS_{year}\", \"RPL_THEMES\": f\"RPL_THEMES_{year}\"}\n",
    "    )\n",
    "\n",
    "    # Merge on FIPS_YEAR\n",
    "    df = df.merge(svi, on=f\"FIPS_{year}\", how=\"left\")\n",
    "\n",
    "    return df\n"
   ]
  },
  {
   "cell_type": "code",
   "execution_count": 42,
   "metadata": {},
   "outputs": [],
   "source": [
    "# Load base patient dataset\n",
    "patients = pd.read_csv(\"/Users/xuanchen99/Desktop/genAI/project/ZIP___Urban_Rural_Medical_Adherence_Dataset__2024_.csv\")\n",
    "patients[\"zip_code\"] = patients[\"zip_code\"].astype(str)\n"
   ]
  },
  {
   "cell_type": "code",
   "execution_count": 44,
   "metadata": {},
   "outputs": [
    {
     "name": "stdout",
     "output_type": "stream",
     "text": [
      "Index(['ZIP', 'TRACT', 'RES_RATIO', 'BUS_RATIO', 'OTH_RATIO', 'TOT_RATIO'], dtype='object')\n",
      "Index(['ZIP', 'TRACT', 'RES_RATIO', 'BUS_RATIO', 'OTH_RATIO', 'TOT_RATIO'], dtype='object')\n"
     ]
    },
    {
     "name": "stderr",
     "output_type": "stream",
     "text": [
      "/opt/anaconda3/lib/python3.12/site-packages/openpyxl/styles/stylesheet.py:226: UserWarning: Workbook contains no default style, apply openpyxl's default\n",
      "  warn(\"Workbook contains no default style, apply openpyxl's default\")\n"
     ]
    },
    {
     "name": "stdout",
     "output_type": "stream",
     "text": [
      "Index(['ZIP', 'TRACT', 'USPS_ZIP_PREF_CITY', 'USPS_ZIP_PREF_STATE',\n",
      "       'RES_RATIO', 'BUS_RATIO', 'OTH_RATIO', 'TOT_RATIO'],\n",
      "      dtype='object')\n"
     ]
    }
   ],
   "source": [
    "\n",
    "# Merge 2018\n",
    "patients_2018 = load_and_merge_year(\n",
    "    2018, patients,\n",
    "    svi_path=\"/Users/xuanchen99/Desktop/genAI/project/SVI_2018_US.csv\",\n",
    "    crosswalk_path=\"/Users/xuanchen99/Desktop/genAI/project/zip_tract_122018.xlsx\"\n",
    ")\n",
    "\n",
    "# Merge 2020\n",
    "patients_2020 = load_and_merge_year(\n",
    "    2020, patients_2018,\n",
    "    svi_path=\"/Users/xuanchen99/Desktop/genAI/project/SVI_2020_US.csv\",\n",
    "    crosswalk_path=\"/Users/xuanchen99/Desktop/genAI/project/zip_tract_122020.xlsx\"\n",
    ")\n",
    "\n",
    "# Merge 2022\n",
    "final_df = load_and_merge_year(\n",
    "    2022, patients_2020,\n",
    "    svi_path=\"/Users/xuanchen99/Desktop/genAI/project/SVI_2022_US.csv\",\n",
    "    crosswalk_path=\"/Users/xuanchen99/Desktop/genAI/project/zip_tract_122022.xlsx\"\n",
    ")\n"
   ]
  },
  {
   "cell_type": "code",
   "execution_count": 46,
   "metadata": {},
   "outputs": [],
   "source": [
    "# Save final result\n",
    "final_df.to_csv(\"/Users/xuanchen99/Desktop/genAI/project/patients_with_svi_2018_2020_2022.csv\", index=False)\n"
   ]
  },
  {
   "cell_type": "code",
   "execution_count": 56,
   "metadata": {},
   "outputs": [],
   "source": [
    "# Load the dataset\n",
    "df = pd.read_csv(\"/Users/xuanchen99/Desktop/genAI/project/patients_with_svi_2018_2020_2022.csv\")\n",
    "\n",
    "# Define categorization function\n",
    "def label_svi_change(delta):\n",
    "    if pd.isna(delta):\n",
    "        return \"Unknown\"\n",
    "    elif delta <= -0.05:\n",
    "        return \"Improved\"\n",
    "    elif delta >= 0.05:\n",
    "        return \"Declined\"\n",
    "    else:\n",
    "        return \"Stable\"\n",
    "\n",
    "# Compute SVI changes\n",
    "df[\"SVI_Change_2018_2020\"] = df[\"RPL_THEMES_2020\"] - df[\"RPL_THEMES_2018\"]\n",
    "df[\"SVI_Change_2020_2022\"] = df[\"RPL_THEMES_2022\"] - df[\"RPL_THEMES_2020\"]\n",
    "df[\"SVI_Change_2018_2022\"] = df[\"RPL_THEMES_2022\"] - df[\"RPL_THEMES_2018\"]\n",
    "\n",
    "# Assign categories\n",
    "df[\"SVI_Change_Category_2018_2020\"] = df[\"SVI_Change_2018_2020\"].apply(label_svi_change)\n",
    "df[\"SVI_Change_Category_2020_2022\"] = df[\"SVI_Change_2020_2022\"].apply(label_svi_change)\n",
    "df[\"SVI_Change_Category_2018_2022\"] = df[\"SVI_Change_2018_2022\"].apply(label_svi_change)\n",
    "\n",
    "\n"
   ]
  },
  {
   "cell_type": "code",
   "execution_count": 58,
   "metadata": {},
   "outputs": [],
   "source": [
    "# Save the new file\n",
    "df.to_csv(\"patients_with_three_svi_changes.csv\", index=False)"
   ]
  },
  {
   "cell_type": "code",
   "execution_count": null,
   "metadata": {},
   "outputs": [],
   "source": []
  }
 ],
 "metadata": {
  "kernelspec": {
   "display_name": "Python 3 (ipykernel)",
   "language": "python",
   "name": "python3"
  },
  "language_info": {
   "codemirror_mode": {
    "name": "ipython",
    "version": 3
   },
   "file_extension": ".py",
   "mimetype": "text/x-python",
   "name": "python",
   "nbconvert_exporter": "python",
   "pygments_lexer": "ipython3",
   "version": "3.12.2"
  }
 },
 "nbformat": 4,
 "nbformat_minor": 4
}
